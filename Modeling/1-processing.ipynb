{
 "cells": [
  {
   "cell_type": "code",
   "execution_count": 1,
   "metadata": {},
   "outputs": [],
   "source": [
    "\n",
    "import pandas as pd\n",
    "import tiktoken\n",
    "from openai.resources.embeddings import Embeddings\n",
    "import time"
   ]
  },
  {
   "cell_type": "code",
   "execution_count": 2,
   "metadata": {},
   "outputs": [],
   "source": [
    "embedding_model = \"text-embedding-ada-002\"\n",
    "embedding_encoding = \"cl100k_base\"  # this the encoding for text-embedding-ada-002\n",
    "max_tokens = 8000  # the maximum for text-embedding-ada-002 is 8191"
   ]
  },
  {
   "cell_type": "code",
   "execution_count": 3,
   "metadata": {},
   "outputs": [],
   "source": [
    "df = pd.read_csv(\"../datacreation/dialogues.csv\", sep = '\\t')\n",
    "df = df.dropna()#.head(1000)"
   ]
  },
  {
   "cell_type": "code",
   "execution_count": 4,
   "metadata": {},
   "outputs": [],
   "source": [
    "df.rename(columns = {'Description':'Question',\"Doctor\":\"Answer\"}, inplace = True)"
   ]
  },
  {
   "cell_type": "code",
   "execution_count": 5,
   "metadata": {},
   "outputs": [
    {
     "data": {
      "text/html": [
       "<div>\n",
       "<style scoped>\n",
       "    .dataframe tbody tr th:only-of-type {\n",
       "        vertical-align: middle;\n",
       "    }\n",
       "\n",
       "    .dataframe tbody tr th {\n",
       "        vertical-align: top;\n",
       "    }\n",
       "\n",
       "    .dataframe thead th {\n",
       "        text-align: right;\n",
       "    }\n",
       "</style>\n",
       "<table border=\"1\" class=\"dataframe\">\n",
       "  <thead>\n",
       "    <tr style=\"text-align: right;\">\n",
       "      <th></th>\n",
       "      <th>Question</th>\n",
       "      <th>Patient</th>\n",
       "      <th>Answer</th>\n",
       "    </tr>\n",
       "  </thead>\n",
       "  <tbody>\n",
       "    <tr>\n",
       "      <th>0</th>\n",
       "      <td>Will masturbation cause weakness in nerves?</td>\n",
       "      <td>Hi, may I answer your health queries right now...</td>\n",
       "      <td>Hi, Masturbation does make the nerves weak whe...</td>\n",
       "    </tr>\n",
       "    <tr>\n",
       "      <th>1</th>\n",
       "      <td>Could lack of hair growth be due to masturbation?</td>\n",
       "      <td>hai sir i am 25years old i used to do masturba...</td>\n",
       "      <td>Hi, Since you said you masturbate frequently e...</td>\n",
       "    </tr>\n",
       "    <tr>\n",
       "      <th>2</th>\n",
       "      <td>What causes seminal leakage?</td>\n",
       "      <td>Hi, may I answer your health queries right now...</td>\n",
       "      <td>Hi, These are the side effects of the masturba...</td>\n",
       "    </tr>\n",
       "    <tr>\n",
       "      <th>3</th>\n",
       "      <td>What cause sperm discharge while urinating?</td>\n",
       "      <td>i masturbated too much in my life but now by t...</td>\n",
       "      <td>Hello, Semen discharge during or after urinati...</td>\n",
       "    </tr>\n",
       "    <tr>\n",
       "      <th>4</th>\n",
       "      <td>How to get rid of semen leakage?</td>\n",
       "      <td>hi,,,sir im 25 years,,of old,im not married an...</td>\n",
       "      <td>Hello, You have visited many doctors and every...</td>\n",
       "    </tr>\n",
       "    <tr>\n",
       "      <th>...</th>\n",
       "      <td>...</td>\n",
       "      <td>...</td>\n",
       "      <td>...</td>\n",
       "    </tr>\n",
       "    <tr>\n",
       "      <th>256905</th>\n",
       "      <td>Q. Brother-in-law got a stent for stomach canc...</td>\n",
       "      <td>Hi doctor, My brother-in-law has stomach cance...</td>\n",
       "      <td>Hi. I understand your concern. For further dou...</td>\n",
       "    </tr>\n",
       "    <tr>\n",
       "      <th>256906</th>\n",
       "      <td>Q. Having osteoporosis and spine fracture. How...</td>\n",
       "      <td>Hi doctor, I have osteoporosis and L3 spine fr...</td>\n",
       "      <td>Hi. I have gone through your message and under...</td>\n",
       "    </tr>\n",
       "    <tr>\n",
       "      <th>256907</th>\n",
       "      <td>Q. How long should I take Humira?</td>\n",
       "      <td>Hi doctor, I am a 55 year old male. I have bee...</td>\n",
       "      <td>Hello. For further information consult a rheum...</td>\n",
       "    </tr>\n",
       "    <tr>\n",
       "      <th>256908</th>\n",
       "      <td>Q. Tried withdrawal method and took I-pill. Am...</td>\n",
       "      <td>Hi doctor, I had unprotected sex and took I-pi...</td>\n",
       "      <td>Hi. For further information consult an obstetr...</td>\n",
       "    </tr>\n",
       "    <tr>\n",
       "      <th>256909</th>\n",
       "      <td>Q. How to replace loose teeth with denture imp...</td>\n",
       "      <td>Hi doctor, I have very bad teeth and all are l...</td>\n",
       "      <td>Hello. For further information consult a denti...</td>\n",
       "    </tr>\n",
       "  </tbody>\n",
       "</table>\n",
       "<p>256910 rows × 3 columns</p>\n",
       "</div>"
      ],
      "text/plain": [
       "                                                 Question  \\\n",
       "0             Will masturbation cause weakness in nerves?   \n",
       "1       Could lack of hair growth be due to masturbation?   \n",
       "2                            What causes seminal leakage?   \n",
       "3             What cause sperm discharge while urinating?   \n",
       "4                        How to get rid of semen leakage?   \n",
       "...                                                   ...   \n",
       "256905  Q. Brother-in-law got a stent for stomach canc...   \n",
       "256906  Q. Having osteoporosis and spine fracture. How...   \n",
       "256907                  Q. How long should I take Humira?   \n",
       "256908  Q. Tried withdrawal method and took I-pill. Am...   \n",
       "256909  Q. How to replace loose teeth with denture imp...   \n",
       "\n",
       "                                                  Patient  \\\n",
       "0       Hi, may I answer your health queries right now...   \n",
       "1       hai sir i am 25years old i used to do masturba...   \n",
       "2       Hi, may I answer your health queries right now...   \n",
       "3       i masturbated too much in my life but now by t...   \n",
       "4       hi,,,sir im 25 years,,of old,im not married an...   \n",
       "...                                                   ...   \n",
       "256905  Hi doctor, My brother-in-law has stomach cance...   \n",
       "256906  Hi doctor, I have osteoporosis and L3 spine fr...   \n",
       "256907  Hi doctor, I am a 55 year old male. I have bee...   \n",
       "256908  Hi doctor, I had unprotected sex and took I-pi...   \n",
       "256909  Hi doctor, I have very bad teeth and all are l...   \n",
       "\n",
       "                                                   Answer  \n",
       "0       Hi, Masturbation does make the nerves weak whe...  \n",
       "1       Hi, Since you said you masturbate frequently e...  \n",
       "2       Hi, These are the side effects of the masturba...  \n",
       "3       Hello, Semen discharge during or after urinati...  \n",
       "4       Hello, You have visited many doctors and every...  \n",
       "...                                                   ...  \n",
       "256905  Hi. I understand your concern. For further dou...  \n",
       "256906  Hi. I have gone through your message and under...  \n",
       "256907  Hello. For further information consult a rheum...  \n",
       "256908  Hi. For further information consult an obstetr...  \n",
       "256909  Hello. For further information consult a denti...  \n",
       "\n",
       "[256910 rows x 3 columns]"
      ]
     },
     "execution_count": 5,
     "metadata": {},
     "output_type": "execute_result"
    }
   ],
   "source": [
    "df"
   ]
  },
  {
   "cell_type": "code",
   "execution_count": 6,
   "metadata": {},
   "outputs": [
    {
     "data": {
      "text/html": [
       "<div>\n",
       "<style scoped>\n",
       "    .dataframe tbody tr th:only-of-type {\n",
       "        vertical-align: middle;\n",
       "    }\n",
       "\n",
       "    .dataframe tbody tr th {\n",
       "        vertical-align: top;\n",
       "    }\n",
       "\n",
       "    .dataframe thead th {\n",
       "        text-align: right;\n",
       "    }\n",
       "</style>\n",
       "<table border=\"1\" class=\"dataframe\">\n",
       "  <thead>\n",
       "    <tr style=\"text-align: right;\">\n",
       "      <th></th>\n",
       "      <th>Question</th>\n",
       "      <th>Patient</th>\n",
       "      <th>Answer</th>\n",
       "      <th>combined</th>\n",
       "    </tr>\n",
       "  </thead>\n",
       "  <tbody>\n",
       "    <tr>\n",
       "      <th>0</th>\n",
       "      <td>Will masturbation cause weakness in nerves?</td>\n",
       "      <td>Hi, may I answer your health queries right now...</td>\n",
       "      <td>Hi, Masturbation does make the nerves weak whe...</td>\n",
       "      <td>Question: Will masturbation cause weakness in ...</td>\n",
       "    </tr>\n",
       "    <tr>\n",
       "      <th>1</th>\n",
       "      <td>Could lack of hair growth be due to masturbation?</td>\n",
       "      <td>hai sir i am 25years old i used to do masturba...</td>\n",
       "      <td>Hi, Since you said you masturbate frequently e...</td>\n",
       "      <td>Question: Could lack of hair growth be due to ...</td>\n",
       "    </tr>\n",
       "  </tbody>\n",
       "</table>\n",
       "</div>"
      ],
      "text/plain": [
       "                                            Question  \\\n",
       "0        Will masturbation cause weakness in nerves?   \n",
       "1  Could lack of hair growth be due to masturbation?   \n",
       "\n",
       "                                             Patient  \\\n",
       "0  Hi, may I answer your health queries right now...   \n",
       "1  hai sir i am 25years old i used to do masturba...   \n",
       "\n",
       "                                              Answer  \\\n",
       "0  Hi, Masturbation does make the nerves weak whe...   \n",
       "1  Hi, Since you said you masturbate frequently e...   \n",
       "\n",
       "                                            combined  \n",
       "0  Question: Will masturbation cause weakness in ...  \n",
       "1  Question: Could lack of hair growth be due to ...  "
      ]
     },
     "execution_count": 6,
     "metadata": {},
     "output_type": "execute_result"
    }
   ],
   "source": [
    "df[\"combined\"] = (\n",
    "    \"Question: \" + df.Question.str.strip() + \"; Patient: \" + df.Patient.str.strip()+ \"; Answer: \" + df.Answer.str.strip()\n",
    ")\n",
    "df.head(2)"
   ]
  },
  {
   "cell_type": "code",
   "execution_count": 7,
   "metadata": {},
   "outputs": [],
   "source": [
    "top_n = df.shape[0]"
   ]
  },
  {
   "cell_type": "code",
   "execution_count": 8,
   "metadata": {},
   "outputs": [
    {
     "data": {
      "text/plain": [
       "256910"
      ]
     },
     "execution_count": 8,
     "metadata": {},
     "output_type": "execute_result"
    }
   ],
   "source": [
    "encoding = tiktoken.get_encoding(embedding_encoding)\n",
    "# omit reviews that are too long to embed\n",
    "df[\"n_tokens\"] = df.combined.apply(lambda x: len(encoding.encode(x)))\n",
    "df = df[df.n_tokens <= max_tokens].tail(top_n)\n",
    "len(df)"
   ]
  },
  {
   "cell_type": "code",
   "execution_count": 9,
   "metadata": {},
   "outputs": [
    {
     "data": {
      "text/html": [
       "<div>\n",
       "<style scoped>\n",
       "    .dataframe tbody tr th:only-of-type {\n",
       "        vertical-align: middle;\n",
       "    }\n",
       "\n",
       "    .dataframe tbody tr th {\n",
       "        vertical-align: top;\n",
       "    }\n",
       "\n",
       "    .dataframe thead th {\n",
       "        text-align: right;\n",
       "    }\n",
       "</style>\n",
       "<table border=\"1\" class=\"dataframe\">\n",
       "  <thead>\n",
       "    <tr style=\"text-align: right;\">\n",
       "      <th></th>\n",
       "      <th>Question</th>\n",
       "      <th>Patient</th>\n",
       "      <th>Answer</th>\n",
       "      <th>combined</th>\n",
       "      <th>n_tokens</th>\n",
       "    </tr>\n",
       "  </thead>\n",
       "  <tbody>\n",
       "    <tr>\n",
       "      <th>0</th>\n",
       "      <td>Will masturbation cause weakness in nerves?</td>\n",
       "      <td>Hi, may I answer your health queries right now...</td>\n",
       "      <td>Hi, Masturbation does make the nerves weak whe...</td>\n",
       "      <td>Question: Will masturbation cause weakness in ...</td>\n",
       "      <td>258</td>\n",
       "    </tr>\n",
       "    <tr>\n",
       "      <th>1</th>\n",
       "      <td>Could lack of hair growth be due to masturbation?</td>\n",
       "      <td>hai sir i am 25years old i used to do masturba...</td>\n",
       "      <td>Hi, Since you said you masturbate frequently e...</td>\n",
       "      <td>Question: Could lack of hair growth be due to ...</td>\n",
       "      <td>194</td>\n",
       "    </tr>\n",
       "    <tr>\n",
       "      <th>2</th>\n",
       "      <td>What causes seminal leakage?</td>\n",
       "      <td>Hi, may I answer your health queries right now...</td>\n",
       "      <td>Hi, These are the side effects of the masturba...</td>\n",
       "      <td>Question: What causes seminal leakage?; Patien...</td>\n",
       "      <td>312</td>\n",
       "    </tr>\n",
       "    <tr>\n",
       "      <th>3</th>\n",
       "      <td>What cause sperm discharge while urinating?</td>\n",
       "      <td>i masturbated too much in my life but now by t...</td>\n",
       "      <td>Hello, Semen discharge during or after urinati...</td>\n",
       "      <td>Question: What cause sperm discharge while uri...</td>\n",
       "      <td>207</td>\n",
       "    </tr>\n",
       "    <tr>\n",
       "      <th>4</th>\n",
       "      <td>How to get rid of semen leakage?</td>\n",
       "      <td>hi,,,sir im 25 years,,of old,im not married an...</td>\n",
       "      <td>Hello, You have visited many doctors and every...</td>\n",
       "      <td>Question: How to get rid of semen leakage?; Pa...</td>\n",
       "      <td>269</td>\n",
       "    </tr>\n",
       "    <tr>\n",
       "      <th>...</th>\n",
       "      <td>...</td>\n",
       "      <td>...</td>\n",
       "      <td>...</td>\n",
       "      <td>...</td>\n",
       "      <td>...</td>\n",
       "    </tr>\n",
       "    <tr>\n",
       "      <th>256905</th>\n",
       "      <td>Q. Brother-in-law got a stent for stomach canc...</td>\n",
       "      <td>Hi doctor, My brother-in-law has stomach cance...</td>\n",
       "      <td>Hi. I understand your concern. For further dou...</td>\n",
       "      <td>Question: Q. Brother-in-law got a stent for st...</td>\n",
       "      <td>345</td>\n",
       "    </tr>\n",
       "    <tr>\n",
       "      <th>256906</th>\n",
       "      <td>Q. Having osteoporosis and spine fracture. How...</td>\n",
       "      <td>Hi doctor, I have osteoporosis and L3 spine fr...</td>\n",
       "      <td>Hi. I have gone through your message and under...</td>\n",
       "      <td>Question: Q. Having osteoporosis and spine fra...</td>\n",
       "      <td>140</td>\n",
       "    </tr>\n",
       "    <tr>\n",
       "      <th>256907</th>\n",
       "      <td>Q. How long should I take Humira?</td>\n",
       "      <td>Hi doctor, I am a 55 year old male. I have bee...</td>\n",
       "      <td>Hello. For further information consult a rheum...</td>\n",
       "      <td>Question: Q. How long should I take Humira?; P...</td>\n",
       "      <td>263</td>\n",
       "    </tr>\n",
       "    <tr>\n",
       "      <th>256908</th>\n",
       "      <td>Q. Tried withdrawal method and took I-pill. Am...</td>\n",
       "      <td>Hi doctor, I had unprotected sex and took I-pi...</td>\n",
       "      <td>Hi. For further information consult an obstetr...</td>\n",
       "      <td>Question: Q. Tried withdrawal method and took ...</td>\n",
       "      <td>88</td>\n",
       "    </tr>\n",
       "    <tr>\n",
       "      <th>256909</th>\n",
       "      <td>Q. How to replace loose teeth with denture imp...</td>\n",
       "      <td>Hi doctor, I have very bad teeth and all are l...</td>\n",
       "      <td>Hello. For further information consult a denti...</td>\n",
       "      <td>Question: Q. How to replace loose teeth with d...</td>\n",
       "      <td>65</td>\n",
       "    </tr>\n",
       "  </tbody>\n",
       "</table>\n",
       "<p>256910 rows × 5 columns</p>\n",
       "</div>"
      ],
      "text/plain": [
       "                                                 Question  \\\n",
       "0             Will masturbation cause weakness in nerves?   \n",
       "1       Could lack of hair growth be due to masturbation?   \n",
       "2                            What causes seminal leakage?   \n",
       "3             What cause sperm discharge while urinating?   \n",
       "4                        How to get rid of semen leakage?   \n",
       "...                                                   ...   \n",
       "256905  Q. Brother-in-law got a stent for stomach canc...   \n",
       "256906  Q. Having osteoporosis and spine fracture. How...   \n",
       "256907                  Q. How long should I take Humira?   \n",
       "256908  Q. Tried withdrawal method and took I-pill. Am...   \n",
       "256909  Q. How to replace loose teeth with denture imp...   \n",
       "\n",
       "                                                  Patient  \\\n",
       "0       Hi, may I answer your health queries right now...   \n",
       "1       hai sir i am 25years old i used to do masturba...   \n",
       "2       Hi, may I answer your health queries right now...   \n",
       "3       i masturbated too much in my life but now by t...   \n",
       "4       hi,,,sir im 25 years,,of old,im not married an...   \n",
       "...                                                   ...   \n",
       "256905  Hi doctor, My brother-in-law has stomach cance...   \n",
       "256906  Hi doctor, I have osteoporosis and L3 spine fr...   \n",
       "256907  Hi doctor, I am a 55 year old male. I have bee...   \n",
       "256908  Hi doctor, I had unprotected sex and took I-pi...   \n",
       "256909  Hi doctor, I have very bad teeth and all are l...   \n",
       "\n",
       "                                                   Answer  \\\n",
       "0       Hi, Masturbation does make the nerves weak whe...   \n",
       "1       Hi, Since you said you masturbate frequently e...   \n",
       "2       Hi, These are the side effects of the masturba...   \n",
       "3       Hello, Semen discharge during or after urinati...   \n",
       "4       Hello, You have visited many doctors and every...   \n",
       "...                                                   ...   \n",
       "256905  Hi. I understand your concern. For further dou...   \n",
       "256906  Hi. I have gone through your message and under...   \n",
       "256907  Hello. For further information consult a rheum...   \n",
       "256908  Hi. For further information consult an obstetr...   \n",
       "256909  Hello. For further information consult a denti...   \n",
       "\n",
       "                                                 combined  n_tokens  \n",
       "0       Question: Will masturbation cause weakness in ...       258  \n",
       "1       Question: Could lack of hair growth be due to ...       194  \n",
       "2       Question: What causes seminal leakage?; Patien...       312  \n",
       "3       Question: What cause sperm discharge while uri...       207  \n",
       "4       Question: How to get rid of semen leakage?; Pa...       269  \n",
       "...                                                   ...       ...  \n",
       "256905  Question: Q. Brother-in-law got a stent for st...       345  \n",
       "256906  Question: Q. Having osteoporosis and spine fra...       140  \n",
       "256907  Question: Q. How long should I take Humira?; P...       263  \n",
       "256908  Question: Q. Tried withdrawal method and took ...        88  \n",
       "256909  Question: Q. How to replace loose teeth with d...        65  \n",
       "\n",
       "[256910 rows x 5 columns]"
      ]
     },
     "execution_count": 9,
     "metadata": {},
     "output_type": "execute_result"
    }
   ],
   "source": [
    "df"
   ]
  },
  {
   "cell_type": "code",
   "execution_count": 10,
   "metadata": {},
   "outputs": [
    {
     "data": {
      "text/plain": [
       "True"
      ]
     },
     "execution_count": 10,
     "metadata": {},
     "output_type": "execute_result"
    }
   ],
   "source": [
    "import torch\n",
    "torch.cuda.is_available()"
   ]
  },
  {
   "cell_type": "code",
   "execution_count": 11,
   "metadata": {},
   "outputs": [
    {
     "name": "stderr",
     "output_type": "stream",
     "text": [
      "c:\\Users\\firas\\AppData\\Local\\Programs\\Python\\Python312\\Lib\\site-packages\\tqdm\\auto.py:21: TqdmWarning: IProgress not found. Please update jupyter and ipywidgets. See https://ipywidgets.readthedocs.io/en/stable/user_install.html\n",
      "  from .autonotebook import tqdm as notebook_tqdm\n"
     ]
    },
    {
     "name": "stdout",
     "output_type": "stream",
     "text": [
      "WARNING:tensorflow:From C:\\Users\\firas\\AppData\\Roaming\\Python\\Python312\\site-packages\\tf_keras\\src\\losses.py:2976: The name tf.losses.sparse_softmax_cross_entropy is deprecated. Please use tf.compat.v1.losses.sparse_softmax_cross_entropy instead.\n",
      "\n"
     ]
    }
   ],
   "source": [
    "from sentence_transformers import SentenceTransformer\n",
    "sbert_model = SentenceTransformer('bert-base-nli-mean-tokens')"
   ]
  },
  {
   "cell_type": "code",
   "execution_count": 12,
   "metadata": {},
   "outputs": [],
   "source": [
    "from sentence_transformers import SentenceTransformer\n",
    "model = SentenceTransformer('paraphrase-MiniLM-L6-v2')\n",
    "#Sentences we want to encode. Example:\n",
    "sentence = ['This framework generates embeddings for each input sentence']\n",
    "#Sentences are encoded by calling model.encode()\n",
    "embedding = model.encode(sentence)"
   ]
  },
  {
   "cell_type": "code",
   "execution_count": 13,
   "metadata": {},
   "outputs": [
    {
     "data": {
      "text/plain": [
       "['This framework generates embeddings for each input sentence']"
      ]
     },
     "execution_count": 13,
     "metadata": {},
     "output_type": "execute_result"
    }
   ],
   "source": [
    "sentence"
   ]
  },
  {
   "cell_type": "code",
   "execution_count": 14,
   "metadata": {},
   "outputs": [],
   "source": [
    "def get_embeddings(x,transformer='paraphrase-MiniLM-L6-v2'):\n",
    "    model = SentenceTransformer(transformer)\n",
    "    #Sentences we want to encode\n",
    "    sentence =x\n",
    "    #Sentences are encoded by calling model.encode()\n",
    "    embedding = model.encode(sentence)\n",
    "    return embedding"
   ]
  },
  {
   "cell_type": "code",
   "execution_count": 1,
   "metadata": {},
   "outputs": [
    {
     "ename": "",
     "evalue": "",
     "output_type": "error",
     "traceback": [
      "\u001b[1;31mThe Kernel crashed while executing code in the current cell or a previous cell. \n",
      "\u001b[1;31mPlease review the code in the cell(s) to identify a possible cause of the failure. \n",
      "\u001b[1;31mClick <a href='https://aka.ms/vscodeJupyterKernelCrash'>here</a> for more info. \n",
      "\u001b[1;31mView Jupyter <a href='command:jupyter.viewOutput'>log</a> for further details."
     ]
    }
   ],
   "source": [
    "\n",
    "embedding_mod='paraphrase-MiniLM-L6-v2'\n",
    "#df[\"embedding\"] = df.combined.apply(lambda x: get_embeddings(x, transformer=embedding_mod))"
   ]
  },
  {
   "cell_type": "code",
   "execution_count": 16,
   "metadata": {},
   "outputs": [],
   "source": [
    "df=df.head(1000)"
   ]
  },
  {
   "cell_type": "code",
   "execution_count": 17,
   "metadata": {},
   "outputs": [
    {
     "name": "stderr",
     "output_type": "stream",
     "text": [
      "C:\\Users\\firas\\AppData\\Local\\Temp\\ipykernel_21756\\912830881.py:1: SettingWithCopyWarning: \n",
      "A value is trying to be set on a copy of a slice from a DataFrame.\n",
      "Try using .loc[row_indexer,col_indexer] = value instead\n",
      "\n",
      "See the caveats in the documentation: https://pandas.pydata.org/pandas-docs/stable/user_guide/indexing.html#returning-a-view-versus-a-copy\n",
      "  df[\"embedding\"] = df.Answer.apply(lambda x: get_embeddings(x, transformer=embedding_mod))\n"
     ]
    }
   ],
   "source": [
    "df[\"embedding\"] = df.Answer.apply(lambda x: get_embeddings(x, transformer=embedding_mod))"
   ]
  },
  {
   "cell_type": "code",
   "execution_count": 18,
   "metadata": {},
   "outputs": [
    {
     "data": {
      "text/html": [
       "<div>\n",
       "<style scoped>\n",
       "    .dataframe tbody tr th:only-of-type {\n",
       "        vertical-align: middle;\n",
       "    }\n",
       "\n",
       "    .dataframe tbody tr th {\n",
       "        vertical-align: top;\n",
       "    }\n",
       "\n",
       "    .dataframe thead th {\n",
       "        text-align: right;\n",
       "    }\n",
       "</style>\n",
       "<table border=\"1\" class=\"dataframe\">\n",
       "  <thead>\n",
       "    <tr style=\"text-align: right;\">\n",
       "      <th></th>\n",
       "      <th>Question</th>\n",
       "      <th>Patient</th>\n",
       "      <th>Answer</th>\n",
       "      <th>combined</th>\n",
       "      <th>n_tokens</th>\n",
       "      <th>embedding</th>\n",
       "    </tr>\n",
       "  </thead>\n",
       "  <tbody>\n",
       "    <tr>\n",
       "      <th>0</th>\n",
       "      <td>Will masturbation cause weakness in nerves?</td>\n",
       "      <td>Hi, may I answer your health queries right now...</td>\n",
       "      <td>Hi, Masturbation does make the nerves weak whe...</td>\n",
       "      <td>Question: Will masturbation cause weakness in ...</td>\n",
       "      <td>258</td>\n",
       "      <td>[0.078390285, -0.18259911, 0.26599148, -0.0003...</td>\n",
       "    </tr>\n",
       "    <tr>\n",
       "      <th>1</th>\n",
       "      <td>Could lack of hair growth be due to masturbation?</td>\n",
       "      <td>hai sir i am 25years old i used to do masturba...</td>\n",
       "      <td>Hi, Since you said you masturbate frequently e...</td>\n",
       "      <td>Question: Could lack of hair growth be due to ...</td>\n",
       "      <td>194</td>\n",
       "      <td>[0.103233114, 0.17714421, 0.23559776, -0.11525...</td>\n",
       "    </tr>\n",
       "    <tr>\n",
       "      <th>2</th>\n",
       "      <td>What causes seminal leakage?</td>\n",
       "      <td>Hi, may I answer your health queries right now...</td>\n",
       "      <td>Hi, These are the side effects of the masturba...</td>\n",
       "      <td>Question: What causes seminal leakage?; Patien...</td>\n",
       "      <td>312</td>\n",
       "      <td>[0.017809762, -0.06392295, 0.3442977, -0.31820...</td>\n",
       "    </tr>\n",
       "    <tr>\n",
       "      <th>3</th>\n",
       "      <td>What cause sperm discharge while urinating?</td>\n",
       "      <td>i masturbated too much in my life but now by t...</td>\n",
       "      <td>Hello, Semen discharge during or after urinati...</td>\n",
       "      <td>Question: What cause sperm discharge while uri...</td>\n",
       "      <td>207</td>\n",
       "      <td>[0.16688053, -0.051134076, 0.1188557, -0.12743...</td>\n",
       "    </tr>\n",
       "    <tr>\n",
       "      <th>4</th>\n",
       "      <td>How to get rid of semen leakage?</td>\n",
       "      <td>hi,,,sir im 25 years,,of old,im not married an...</td>\n",
       "      <td>Hello, You have visited many doctors and every...</td>\n",
       "      <td>Question: How to get rid of semen leakage?; Pa...</td>\n",
       "      <td>269</td>\n",
       "      <td>[0.01781268, -0.054479472, 0.00820038, -0.0355...</td>\n",
       "    </tr>\n",
       "    <tr>\n",
       "      <th>...</th>\n",
       "      <td>...</td>\n",
       "      <td>...</td>\n",
       "      <td>...</td>\n",
       "      <td>...</td>\n",
       "      <td>...</td>\n",
       "      <td>...</td>\n",
       "    </tr>\n",
       "    <tr>\n",
       "      <th>995</th>\n",
       "      <td>What causes feeling of worm movement in scrotum?</td>\n",
       "      <td>I have been feeling some worm like movements i...</td>\n",
       "      <td>Hello,It may be due to varicocoele. For furthe...</td>\n",
       "      <td>Question: What causes feeling of worm movement...</td>\n",
       "      <td>453</td>\n",
       "      <td>[-0.14953393, -0.2229069, -0.08538629, 0.04412...</td>\n",
       "    </tr>\n",
       "    <tr>\n",
       "      <th>996</th>\n",
       "      <td>Suggest treatment for masturbation addiction</td>\n",
       "      <td>Is seeing sex vedios is wrongWhile seeing sex ...</td>\n",
       "      <td>Hi, The discharge from penis is normal.Ways to...</td>\n",
       "      <td>Question: Suggest treatment for masturbation a...</td>\n",
       "      <td>168</td>\n",
       "      <td>[0.329195, 0.32417792, 0.38875, -0.35095996, -...</td>\n",
       "    </tr>\n",
       "    <tr>\n",
       "      <th>997</th>\n",
       "      <td>What causes night sweating with bleeding?</td>\n",
       "      <td>Hi, may I answer your health queries right now...</td>\n",
       "      <td>Hi, The bleeding can be due to prostate infect...</td>\n",
       "      <td>Question: What causes night sweating with blee...</td>\n",
       "      <td>159</td>\n",
       "      <td>[-0.17683402, 0.083951615, 0.33670115, 0.45517...</td>\n",
       "    </tr>\n",
       "    <tr>\n",
       "      <th>998</th>\n",
       "      <td>What is the transparent liquid that is dischar...</td>\n",
       "      <td>ir, i am 26 year old and u cant believe it, th...</td>\n",
       "      <td>Hi, it is pre-ejaculatory fluid, PED. It’s a n...</td>\n",
       "      <td>Question: What is the transparent liquid that ...</td>\n",
       "      <td>183</td>\n",
       "      <td>[-0.10605852, -0.0023009975, 0.07539014, -0.20...</td>\n",
       "    </tr>\n",
       "    <tr>\n",
       "      <th>999</th>\n",
       "      <td>Is excessive masturbation harmful to body?</td>\n",
       "      <td>my name is petersir i have a problem..i am not...</td>\n",
       "      <td>Hi, Yes. it is harmful to the body. It may lea...</td>\n",
       "      <td>Question: Is excessive masturbation harmful to...</td>\n",
       "      <td>177</td>\n",
       "      <td>[0.026289836, -0.013604856, 0.22964166, -0.017...</td>\n",
       "    </tr>\n",
       "  </tbody>\n",
       "</table>\n",
       "<p>1000 rows × 6 columns</p>\n",
       "</div>"
      ],
      "text/plain": [
       "                                              Question  \\\n",
       "0          Will masturbation cause weakness in nerves?   \n",
       "1    Could lack of hair growth be due to masturbation?   \n",
       "2                         What causes seminal leakage?   \n",
       "3          What cause sperm discharge while urinating?   \n",
       "4                     How to get rid of semen leakage?   \n",
       "..                                                 ...   \n",
       "995   What causes feeling of worm movement in scrotum?   \n",
       "996       Suggest treatment for masturbation addiction   \n",
       "997          What causes night sweating with bleeding?   \n",
       "998  What is the transparent liquid that is dischar...   \n",
       "999         Is excessive masturbation harmful to body?   \n",
       "\n",
       "                                               Patient  \\\n",
       "0    Hi, may I answer your health queries right now...   \n",
       "1    hai sir i am 25years old i used to do masturba...   \n",
       "2    Hi, may I answer your health queries right now...   \n",
       "3    i masturbated too much in my life but now by t...   \n",
       "4    hi,,,sir im 25 years,,of old,im not married an...   \n",
       "..                                                 ...   \n",
       "995  I have been feeling some worm like movements i...   \n",
       "996  Is seeing sex vedios is wrongWhile seeing sex ...   \n",
       "997  Hi, may I answer your health queries right now...   \n",
       "998  ir, i am 26 year old and u cant believe it, th...   \n",
       "999  my name is petersir i have a problem..i am not...   \n",
       "\n",
       "                                                Answer  \\\n",
       "0    Hi, Masturbation does make the nerves weak whe...   \n",
       "1    Hi, Since you said you masturbate frequently e...   \n",
       "2    Hi, These are the side effects of the masturba...   \n",
       "3    Hello, Semen discharge during or after urinati...   \n",
       "4    Hello, You have visited many doctors and every...   \n",
       "..                                                 ...   \n",
       "995  Hello,It may be due to varicocoele. For furthe...   \n",
       "996  Hi, The discharge from penis is normal.Ways to...   \n",
       "997  Hi, The bleeding can be due to prostate infect...   \n",
       "998  Hi, it is pre-ejaculatory fluid, PED. It’s a n...   \n",
       "999  Hi, Yes. it is harmful to the body. It may lea...   \n",
       "\n",
       "                                              combined  n_tokens  \\\n",
       "0    Question: Will masturbation cause weakness in ...       258   \n",
       "1    Question: Could lack of hair growth be due to ...       194   \n",
       "2    Question: What causes seminal leakage?; Patien...       312   \n",
       "3    Question: What cause sperm discharge while uri...       207   \n",
       "4    Question: How to get rid of semen leakage?; Pa...       269   \n",
       "..                                                 ...       ...   \n",
       "995  Question: What causes feeling of worm movement...       453   \n",
       "996  Question: Suggest treatment for masturbation a...       168   \n",
       "997  Question: What causes night sweating with blee...       159   \n",
       "998  Question: What is the transparent liquid that ...       183   \n",
       "999  Question: Is excessive masturbation harmful to...       177   \n",
       "\n",
       "                                             embedding  \n",
       "0    [0.078390285, -0.18259911, 0.26599148, -0.0003...  \n",
       "1    [0.103233114, 0.17714421, 0.23559776, -0.11525...  \n",
       "2    [0.017809762, -0.06392295, 0.3442977, -0.31820...  \n",
       "3    [0.16688053, -0.051134076, 0.1188557, -0.12743...  \n",
       "4    [0.01781268, -0.054479472, 0.00820038, -0.0355...  \n",
       "..                                                 ...  \n",
       "995  [-0.14953393, -0.2229069, -0.08538629, 0.04412...  \n",
       "996  [0.329195, 0.32417792, 0.38875, -0.35095996, -...  \n",
       "997  [-0.17683402, 0.083951615, 0.33670115, 0.45517...  \n",
       "998  [-0.10605852, -0.0023009975, 0.07539014, -0.20...  \n",
       "999  [0.026289836, -0.013604856, 0.22964166, -0.017...  \n",
       "\n",
       "[1000 rows x 6 columns]"
      ]
     },
     "execution_count": 18,
     "metadata": {},
     "output_type": "execute_result"
    }
   ],
   "source": [
    "df"
   ]
  },
  {
   "cell_type": "code",
   "execution_count": 19,
   "metadata": {},
   "outputs": [],
   "source": [
    "from ast import literal_eval\n",
    "import numpy as np"
   ]
  },
  {
   "cell_type": "code",
   "execution_count": 20,
   "metadata": {},
   "outputs": [
    {
     "name": "stderr",
     "output_type": "stream",
     "text": [
      "C:\\Users\\firas\\AppData\\Local\\Temp\\ipykernel_21756\\1084155257.py:1: SettingWithCopyWarning: \n",
      "A value is trying to be set on a copy of a slice from a DataFrame.\n",
      "Try using .loc[row_indexer,col_indexer] = value instead\n",
      "\n",
      "See the caveats in the documentation: https://pandas.pydata.org/pandas-docs/stable/user_guide/indexing.html#returning-a-view-versus-a-copy\n",
      "  df[\"embedding\"] = df.embedding.apply(np.array)  # convert string to numpy array\n"
     ]
    }
   ],
   "source": [
    "df[\"embedding\"] = df.embedding.apply(np.array)  # convert string to numpy array\n"
   ]
  },
  {
   "cell_type": "code",
   "execution_count": 21,
   "metadata": {},
   "outputs": [],
   "source": [
    "df.to_pickle(\"../datacreation/dialogues_embededd.pkl\")"
   ]
  },
  {
   "cell_type": "code",
   "execution_count": 22,
   "metadata": {},
   "outputs": [],
   "source": [
    "df.to_csv(\"../datacreation/dialogues_embededd.csv\", sep = '\\t', encoding='utf-8', index=False)"
   ]
  }
 ],
 "metadata": {
  "kernelspec": {
   "display_name": "Python 3",
   "language": "python",
   "name": "python3"
  },
  "language_info": {
   "codemirror_mode": {
    "name": "ipython",
    "version": 3
   },
   "file_extension": ".py",
   "mimetype": "text/x-python",
   "name": "python",
   "nbconvert_exporter": "python",
   "pygments_lexer": "ipython3",
   "version": "3.12.8"
  }
 },
 "nbformat": 4,
 "nbformat_minor": 2
}
