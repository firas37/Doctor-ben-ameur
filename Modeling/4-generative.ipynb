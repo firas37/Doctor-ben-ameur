{
 "cells": [
  {
   "cell_type": "code",
   "execution_count": 1,
   "metadata": {},
   "outputs": [
    {
     "name": "stderr",
     "output_type": "stream",
     "text": [
      "c:\\Users\\firas\\AppData\\Local\\Programs\\Python\\Python312\\Lib\\site-packages\\tqdm\\auto.py:21: TqdmWarning: IProgress not found. Please update jupyter and ipywidgets. See https://ipywidgets.readthedocs.io/en/stable/user_install.html\n",
      "  from .autonotebook import tqdm as notebook_tqdm\n"
     ]
    },
    {
     "name": "stdout",
     "output_type": "stream",
     "text": [
      "WARNING:tensorflow:From C:\\Users\\firas\\AppData\\Roaming\\Python\\Python312\\site-packages\\tf_keras\\src\\losses.py:2976: The name tf.losses.sparse_softmax_cross_entropy is deprecated. Please use tf.compat.v1.losses.sparse_softmax_cross_entropy instead.\n",
      "\n"
     ]
    }
   ],
   "source": [
    "import os, getpass\n",
    "import pandas as pd\n",
    "from typing import Optional, Dict, Any, Iterable, List\n",
    "\n",
    "try:\n",
    "    from sentence_transformers import SentenceTransformer\n",
    "except ImportError:\n",
    "    raise ImportError(\"Could not import sentence_transformers: Please install sentence-transformers package.\")\n",
    "    \n",
    "try:\n",
    "    import chromadb\n",
    "    from chromadb.api.types import EmbeddingFunction\n",
    "except ImportError:\n",
    "    raise ImportError(\"Could not import chromdb: Please install chromadb package.\")"
   ]
  },
  {
   "cell_type": "code",
   "execution_count": 2,
   "metadata": {},
   "outputs": [],
   "source": [
    "# Python program to read\n",
    "# json file\n",
    "import json\n",
    "# Opening JSON file\n",
    "f = open('./credentials/api.json')\n",
    "# returns JSON object as\n",
    "# a dictionary\n",
    "data = json.load(f)\n",
    "# Ensure you have your API key set in your environment\n",
    "#in ./credentials/api.json\n",
    "IBM_CLOUD_API = data['IBM_CLOUD_API']\n",
    "PROJECT_ID = data['PROJECT_ID']\n",
    "# Closing file\n",
    "f.close()"
   ]
  },
  {
   "cell_type": "code",
   "execution_count": 3,
   "metadata": {},
   "outputs": [],
   "source": [
    "credentials = {\n",
    "    \"url\": \"https://us-south.ml.cloud.ibm.com\",\n",
    "    \"apikey\": IBM_CLOUD_API\n",
    "}"
   ]
  },
  {
   "cell_type": "code",
   "execution_count": 4,
   "metadata": {},
   "outputs": [],
   "source": [
    "try:\n",
    "    project_id = os.environ[\"PROJECT_ID\"]\n",
    "except KeyError:\n",
    "    project_id = PROJECT_ID"
   ]
  },
  {
   "cell_type": "code",
   "execution_count": 5,
   "metadata": {},
   "outputs": [],
   "source": [
    "import numpy as np\n",
    "import pandas as pd"
   ]
  },
  {
   "cell_type": "code",
   "execution_count": 6,
   "metadata": {},
   "outputs": [],
   "source": [
    "filename_data = \"../datacreation/dialogues_embededd.pkl\"\n",
    "data =  pd.read_pickle(filename_data)"
   ]
  },
  {
   "cell_type": "code",
   "execution_count": 7,
   "metadata": {},
   "outputs": [],
   "source": [
    "from sklearn.model_selection import train_test_split"
   ]
  },
  {
   "cell_type": "code",
   "execution_count": 8,
   "metadata": {},
   "outputs": [],
   "source": [
    "train_data, test_data= train_test_split(data, test_size=0.05)\n"
   ]
  },
  {
   "cell_type": "code",
   "execution_count": 9,
   "metadata": {},
   "outputs": [
    {
     "data": {
      "text/plain": [
       "(950, 6)"
      ]
     },
     "execution_count": 9,
     "metadata": {},
     "output_type": "execute_result"
    }
   ],
   "source": [
    "train_data.shape\n"
   ]
  },
  {
   "cell_type": "code",
   "execution_count": 10,
   "metadata": {},
   "outputs": [
    {
     "data": {
      "text/plain": [
       "(50, 6)"
      ]
     },
     "execution_count": 10,
     "metadata": {},
     "output_type": "execute_result"
    }
   ],
   "source": [
    "test_data.shape\n"
   ]
  },
  {
   "cell_type": "code",
   "execution_count": 11,
   "metadata": {},
   "outputs": [],
   "source": [
    "data_root = \"../datacreation/\"\n",
    "knowledge_base_dir = f\"{data_root}/knowledge_base\""
   ]
  },
  {
   "cell_type": "code",
   "execution_count": 12,
   "metadata": {},
   "outputs": [
    {
     "data": {
      "text/plain": [
       "'../datacreation//knowledge_base'"
      ]
     },
     "execution_count": 12,
     "metadata": {},
     "output_type": "execute_result"
    }
   ],
   "source": [
    "knowledge_base_dir\n"
   ]
  },
  {
   "cell_type": "code",
   "execution_count": 13,
   "metadata": {},
   "outputs": [
    {
     "data": {
      "text/html": [
       "<div>\n",
       "<style scoped>\n",
       "    .dataframe tbody tr th:only-of-type {\n",
       "        vertical-align: middle;\n",
       "    }\n",
       "\n",
       "    .dataframe tbody tr th {\n",
       "        vertical-align: top;\n",
       "    }\n",
       "\n",
       "    .dataframe thead th {\n",
       "        text-align: right;\n",
       "    }\n",
       "</style>\n",
       "<table border=\"1\" class=\"dataframe\">\n",
       "  <thead>\n",
       "    <tr style=\"text-align: right;\">\n",
       "      <th></th>\n",
       "      <th>Question</th>\n",
       "      <th>Patient</th>\n",
       "      <th>Answer</th>\n",
       "      <th>combined</th>\n",
       "    </tr>\n",
       "  </thead>\n",
       "  <tbody>\n",
       "    <tr>\n",
       "      <th>0</th>\n",
       "      <td>Will masturbation cause weakness in nerves?</td>\n",
       "      <td>Hi, may I answer your health queries right now...</td>\n",
       "      <td>Hi, Masturbation does make the nerves weak whe...</td>\n",
       "      <td>Question: Will masturbation cause weakness in ...</td>\n",
       "    </tr>\n",
       "    <tr>\n",
       "      <th>1</th>\n",
       "      <td>Could lack of hair growth be due to masturbation?</td>\n",
       "      <td>hai sir i am 25years old i used to do masturba...</td>\n",
       "      <td>Hi, Since you said you masturbate frequently e...</td>\n",
       "      <td>Question: Could lack of hair growth be due to ...</td>\n",
       "    </tr>\n",
       "  </tbody>\n",
       "</table>\n",
       "</div>"
      ],
      "text/plain": [
       "                                            Question  \\\n",
       "0        Will masturbation cause weakness in nerves?   \n",
       "1  Could lack of hair growth be due to masturbation?   \n",
       "\n",
       "                                             Patient  \\\n",
       "0  Hi, may I answer your health queries right now...   \n",
       "1  hai sir i am 25years old i used to do masturba...   \n",
       "\n",
       "                                              Answer  \\\n",
       "0  Hi, Masturbation does make the nerves weak whe...   \n",
       "1  Hi, Since you said you masturbate frequently e...   \n",
       "\n",
       "                                            combined  \n",
       "0  Question: Will masturbation cause weakness in ...  \n",
       "1  Question: Could lack of hair growth be due to ...  "
      ]
     },
     "execution_count": 13,
     "metadata": {},
     "output_type": "execute_result"
    }
   ],
   "source": [
    "df = pd.read_csv(\"../datacreation/dialogues.csv\", sep = '\\t')\n",
    "df = df.dropna()#.head(1000)\n",
    "df.rename(columns = {'Description':'Question',\"Doctor\":\"Answer\"}, inplace = True)\n",
    "\n",
    "#df[\"combined\"] = (\"Question: \" + df.Question.str.strip() + \"\\n\" +\" Patient: \" + df.Patient.str.strip()+  \"\\n\" +\" Answer: \" + df.Answer.str.strip())\n",
    "\n",
    "df[\"combined\"] = (\"Question: \" + df.Question.str.strip() + \"\\n\" +\" Answer: \" + df.Answer.str.strip())\n",
    "\n",
    "df.head(2)"
   ]
  },
  {
   "cell_type": "code",
   "execution_count": 14,
   "metadata": {},
   "outputs": [
    {
     "data": {
      "text/plain": [
       "(256910, 4)"
      ]
     },
     "execution_count": 14,
     "metadata": {},
     "output_type": "execute_result"
    }
   ],
   "source": [
    "df.shape"
   ]
  },
  {
   "cell_type": "code",
   "execution_count": 15,
   "metadata": {},
   "outputs": [
    {
     "name": "stdout",
     "output_type": "stream",
     "text": [
      "Original rows: 256910\n",
      "Rows after removing duplicates: 246532\n",
      "Duplicates removed: 10378\n"
     ]
    }
   ],
   "source": [
    "df.drop_duplicates()\n",
    "print(f\"Original rows: {len(df)}\")\n",
    "df_no_dupes = df.drop_duplicates()\n",
    "print(f\"Rows after removing duplicates: {len(df_no_dupes)}\")\n",
    "print(f\"Duplicates removed: {len(df) - len(df_no_dupes)}\")"
   ]
  },
  {
   "cell_type": "code",
   "execution_count": 16,
   "metadata": {},
   "outputs": [],
   "source": [
    "df=df.drop_duplicates()"
   ]
  },
  {
   "cell_type": "code",
   "execution_count": 17,
   "metadata": {},
   "outputs": [
    {
     "data": {
      "text/plain": [
       "(246532, 4)"
      ]
     },
     "execution_count": 17,
     "metadata": {},
     "output_type": "execute_result"
    }
   ],
   "source": [
    "df.shape"
   ]
  },
  {
   "cell_type": "code",
   "execution_count": 18,
   "metadata": {},
   "outputs": [],
   "source": [
    "df = df.reset_index()\n",
    "df.rename(columns = {'index':'ids'}, inplace = True)"
   ]
  },
  {
   "cell_type": "code",
   "execution_count": 19,
   "metadata": {},
   "outputs": [],
   "source": [
    "documents=df\n"
   ]
  },
  {
   "cell_type": "code",
   "execution_count": 20,
   "metadata": {},
   "outputs": [
    {
     "data": {
      "text/plain": [
       "(246532, 5)"
      ]
     },
     "execution_count": 20,
     "metadata": {},
     "output_type": "execute_result"
    }
   ],
   "source": [
    "documents.shape\n"
   ]
  },
  {
   "cell_type": "code",
   "execution_count": 21,
   "metadata": {},
   "outputs": [
    {
     "data": {
      "text/html": [
       "<div>\n",
       "<style scoped>\n",
       "    .dataframe tbody tr th:only-of-type {\n",
       "        vertical-align: middle;\n",
       "    }\n",
       "\n",
       "    .dataframe tbody tr th {\n",
       "        vertical-align: top;\n",
       "    }\n",
       "\n",
       "    .dataframe thead th {\n",
       "        text-align: right;\n",
       "    }\n",
       "</style>\n",
       "<table border=\"1\" class=\"dataframe\">\n",
       "  <thead>\n",
       "    <tr style=\"text-align: right;\">\n",
       "      <th></th>\n",
       "      <th>ids</th>\n",
       "      <th>Question</th>\n",
       "      <th>Patient</th>\n",
       "      <th>Answer</th>\n",
       "      <th>combined</th>\n",
       "    </tr>\n",
       "  </thead>\n",
       "  <tbody>\n",
       "    <tr>\n",
       "      <th>0</th>\n",
       "      <td>0</td>\n",
       "      <td>Will masturbation cause weakness in nerves?</td>\n",
       "      <td>Hi, may I answer your health queries right now...</td>\n",
       "      <td>Hi, Masturbation does make the nerves weak whe...</td>\n",
       "      <td>Question: Will masturbation cause weakness in ...</td>\n",
       "    </tr>\n",
       "    <tr>\n",
       "      <th>1</th>\n",
       "      <td>1</td>\n",
       "      <td>Could lack of hair growth be due to masturbation?</td>\n",
       "      <td>hai sir i am 25years old i used to do masturba...</td>\n",
       "      <td>Hi, Since you said you masturbate frequently e...</td>\n",
       "      <td>Question: Could lack of hair growth be due to ...</td>\n",
       "    </tr>\n",
       "    <tr>\n",
       "      <th>2</th>\n",
       "      <td>2</td>\n",
       "      <td>What causes seminal leakage?</td>\n",
       "      <td>Hi, may I answer your health queries right now...</td>\n",
       "      <td>Hi, These are the side effects of the masturba...</td>\n",
       "      <td>Question: What causes seminal leakage?\\n Answe...</td>\n",
       "    </tr>\n",
       "    <tr>\n",
       "      <th>3</th>\n",
       "      <td>3</td>\n",
       "      <td>What cause sperm discharge while urinating?</td>\n",
       "      <td>i masturbated too much in my life but now by t...</td>\n",
       "      <td>Hello, Semen discharge during or after urinati...</td>\n",
       "      <td>Question: What cause sperm discharge while uri...</td>\n",
       "    </tr>\n",
       "    <tr>\n",
       "      <th>4</th>\n",
       "      <td>4</td>\n",
       "      <td>How to get rid of semen leakage?</td>\n",
       "      <td>hi,,,sir im 25 years,,of old,im not married an...</td>\n",
       "      <td>Hello, You have visited many doctors and every...</td>\n",
       "      <td>Question: How to get rid of semen leakage?\\n A...</td>\n",
       "    </tr>\n",
       "    <tr>\n",
       "      <th>...</th>\n",
       "      <td>...</td>\n",
       "      <td>...</td>\n",
       "      <td>...</td>\n",
       "      <td>...</td>\n",
       "      <td>...</td>\n",
       "    </tr>\n",
       "    <tr>\n",
       "      <th>246527</th>\n",
       "      <td>256905</td>\n",
       "      <td>Q. Brother-in-law got a stent for stomach canc...</td>\n",
       "      <td>Hi doctor, My brother-in-law has stomach cance...</td>\n",
       "      <td>Hi. I understand your concern. For further dou...</td>\n",
       "      <td>Question: Q. Brother-in-law got a stent for st...</td>\n",
       "    </tr>\n",
       "    <tr>\n",
       "      <th>246528</th>\n",
       "      <td>256906</td>\n",
       "      <td>Q. Having osteoporosis and spine fracture. How...</td>\n",
       "      <td>Hi doctor, I have osteoporosis and L3 spine fr...</td>\n",
       "      <td>Hi. I have gone through your message and under...</td>\n",
       "      <td>Question: Q. Having osteoporosis and spine fra...</td>\n",
       "    </tr>\n",
       "    <tr>\n",
       "      <th>246529</th>\n",
       "      <td>256907</td>\n",
       "      <td>Q. How long should I take Humira?</td>\n",
       "      <td>Hi doctor, I am a 55 year old male. I have bee...</td>\n",
       "      <td>Hello. For further information consult a rheum...</td>\n",
       "      <td>Question: Q. How long should I take Humira?\\n ...</td>\n",
       "    </tr>\n",
       "    <tr>\n",
       "      <th>246530</th>\n",
       "      <td>256908</td>\n",
       "      <td>Q. Tried withdrawal method and took I-pill. Am...</td>\n",
       "      <td>Hi doctor, I had unprotected sex and took I-pi...</td>\n",
       "      <td>Hi. For further information consult an obstetr...</td>\n",
       "      <td>Question: Q. Tried withdrawal method and took ...</td>\n",
       "    </tr>\n",
       "    <tr>\n",
       "      <th>246531</th>\n",
       "      <td>256909</td>\n",
       "      <td>Q. How to replace loose teeth with denture imp...</td>\n",
       "      <td>Hi doctor, I have very bad teeth and all are l...</td>\n",
       "      <td>Hello. For further information consult a denti...</td>\n",
       "      <td>Question: Q. How to replace loose teeth with d...</td>\n",
       "    </tr>\n",
       "  </tbody>\n",
       "</table>\n",
       "<p>246532 rows × 5 columns</p>\n",
       "</div>"
      ],
      "text/plain": [
       "           ids                                           Question  \\\n",
       "0            0        Will masturbation cause weakness in nerves?   \n",
       "1            1  Could lack of hair growth be due to masturbation?   \n",
       "2            2                       What causes seminal leakage?   \n",
       "3            3        What cause sperm discharge while urinating?   \n",
       "4            4                   How to get rid of semen leakage?   \n",
       "...        ...                                                ...   \n",
       "246527  256905  Q. Brother-in-law got a stent for stomach canc...   \n",
       "246528  256906  Q. Having osteoporosis and spine fracture. How...   \n",
       "246529  256907                  Q. How long should I take Humira?   \n",
       "246530  256908  Q. Tried withdrawal method and took I-pill. Am...   \n",
       "246531  256909  Q. How to replace loose teeth with denture imp...   \n",
       "\n",
       "                                                  Patient  \\\n",
       "0       Hi, may I answer your health queries right now...   \n",
       "1       hai sir i am 25years old i used to do masturba...   \n",
       "2       Hi, may I answer your health queries right now...   \n",
       "3       i masturbated too much in my life but now by t...   \n",
       "4       hi,,,sir im 25 years,,of old,im not married an...   \n",
       "...                                                   ...   \n",
       "246527  Hi doctor, My brother-in-law has stomach cance...   \n",
       "246528  Hi doctor, I have osteoporosis and L3 spine fr...   \n",
       "246529  Hi doctor, I am a 55 year old male. I have bee...   \n",
       "246530  Hi doctor, I had unprotected sex and took I-pi...   \n",
       "246531  Hi doctor, I have very bad teeth and all are l...   \n",
       "\n",
       "                                                   Answer  \\\n",
       "0       Hi, Masturbation does make the nerves weak whe...   \n",
       "1       Hi, Since you said you masturbate frequently e...   \n",
       "2       Hi, These are the side effects of the masturba...   \n",
       "3       Hello, Semen discharge during or after urinati...   \n",
       "4       Hello, You have visited many doctors and every...   \n",
       "...                                                   ...   \n",
       "246527  Hi. I understand your concern. For further dou...   \n",
       "246528  Hi. I have gone through your message and under...   \n",
       "246529  Hello. For further information consult a rheum...   \n",
       "246530  Hi. For further information consult an obstetr...   \n",
       "246531  Hello. For further information consult a denti...   \n",
       "\n",
       "                                                 combined  \n",
       "0       Question: Will masturbation cause weakness in ...  \n",
       "1       Question: Could lack of hair growth be due to ...  \n",
       "2       Question: What causes seminal leakage?\\n Answe...  \n",
       "3       Question: What cause sperm discharge while uri...  \n",
       "4       Question: How to get rid of semen leakage?\\n A...  \n",
       "...                                                   ...  \n",
       "246527  Question: Q. Brother-in-law got a stent for st...  \n",
       "246528  Question: Q. Having osteoporosis and spine fra...  \n",
       "246529  Question: Q. How long should I take Humira?\\n ...  \n",
       "246530  Question: Q. Tried withdrawal method and took ...  \n",
       "246531  Question: Q. How to replace loose teeth with d...  \n",
       "\n",
       "[246532 rows x 5 columns]"
      ]
     },
     "execution_count": 21,
     "metadata": {},
     "output_type": "execute_result"
    }
   ],
   "source": [
    "documents\n"
   ]
  },
  {
   "cell_type": "code",
   "execution_count": 22,
   "metadata": {},
   "outputs": [
    {
     "name": "stderr",
     "output_type": "stream",
     "text": [
      "C:\\Users\\firas\\AppData\\Local\\Temp\\ipykernel_23808\\1187675410.py:5: DeprecationWarning: The class MiniLML6V2EmbeddingFunction does not implement __init__. This will be required in a future version.\n",
      "  emb_func = MiniLML6V2EmbeddingFunction()\n"
     ]
    }
   ],
   "source": [
    "class MiniLML6V2EmbeddingFunction(EmbeddingFunction):\n",
    "    MODEL = SentenceTransformer('all-MiniLM-L6-v2')\n",
    "    def __call__(self, texts):\n",
    "        return MiniLML6V2EmbeddingFunction.MODEL.encode(texts).tolist()\n",
    "emb_func = MiniLML6V2EmbeddingFunction()"
   ]
  },
  {
   "cell_type": "code",
   "execution_count": 23,
   "metadata": {},
   "outputs": [],
   "source": [
    "class ChromaWithUpsert:\n",
    "    def __init__(\n",
    "            self,\n",
    "            name: Optional[str] = \"watsonx_rag_collection\",\n",
    "            persist_directory: Optional[str] = None,\n",
    "            embedding_function: Optional[EmbeddingFunction] = None,\n",
    "            collection_metadata: Optional[Dict] = None,\n",
    "    ):\n",
    "        # Updated client creation approach\n",
    "        if persist_directory is not None:\n",
    "            self._client = chromadb.PersistentClient(path=persist_directory)\n",
    "        else:\n",
    "            self._client = chromadb.EphemeralClient()\n",
    "            \n",
    "        self._embedding_function = embedding_function\n",
    "        self._persist_directory = persist_directory\n",
    "        self._name = name\n",
    "        self._collection = self._client.get_or_create_collection(\n",
    "            name=self._name,\n",
    "            embedding_function=self._embedding_function\n",
    "            if self._embedding_function is not None\n",
    "            else None,\n",
    "            metadata=collection_metadata,\n",
    "        )\n",
    "\n",
    "    def upsert_texts(\n",
    "        self,\n",
    "        texts: Iterable[str],\n",
    "        metadata: Optional[List[dict]] = None,\n",
    "        ids: Optional[List[str]] = None,\n",
    "        **kwargs: Any,\n",
    "    ) -> List[str]:\n",
    "        \"\"\"Run more texts through the embeddings and add to the vectorstore.\n",
    "        Args:\n",
    "            :param texts (Iterable[str]): Texts to add to the vectorstore.\n",
    "            :param metadatas (Optional[List[dict]], optional): Optional list of metadatas.\n",
    "            :param ids (Optional[List[str]], optional): Optional list of IDs.\n",
    "            :param metadata: Optional[List[dict]] - optional metadata (such as title, etc.)\n",
    "        Returns:\n",
    "            List[str]: List of IDs of the added texts.\n",
    "        \"\"\"\n",
    "        # Convert iterables to lists to work with them more easily\n",
    "        texts_list = list(texts)\n",
    "        \n",
    "        # Generate IDs if not provided\n",
    "        if ids is None:\n",
    "            import uuid\n",
    "            ids = [str(uuid.uuid1()) for _ in texts_list]\n",
    "        \n",
    "        # Process in batches of 5000 (safely below the max batch size of 5461)\n",
    "        batch_size = 5000\n",
    "        for i in range(0, len(texts_list), batch_size):\n",
    "            end = min(i + batch_size, len(texts_list))\n",
    "            \n",
    "            # Get the current batch\n",
    "            batch_texts = texts_list[i:end]\n",
    "            batch_ids = ids[i:end]\n",
    "            batch_metadata = None if metadata is None else metadata[i:end]\n",
    "            \n",
    "            # Upsert the current batch\n",
    "            self._collection.upsert(\n",
    "                metadatas=batch_metadata, \n",
    "                documents=batch_texts, \n",
    "                ids=batch_ids\n",
    "            )\n",
    "        \n",
    "        return ids\n",
    "\n",
    "    def is_empty(self):\n",
    "        \"\"\"Check if the collection is empty.\"\"\"\n",
    "        return self._collection.count() == 0\n",
    "\n",
    "    def persist(self):\n",
    "        \"\"\"Persist the collection to disk if using a PersistentClient.\"\"\"\n",
    "        # Note: In newer versions of ChromaDB, only PersistentClient needs explicit persist\n",
    "        if hasattr(self._client, \"persist\"):\n",
    "            self._client.persist()\n",
    "\n",
    "    def query(self, query_texts: str, n_results: int = 5):\n",
    "        \"\"\"\n",
    "        Returns the closests vector to the question vector\n",
    "        :param query_texts: the question\n",
    "        :param n_results: number of results to generate\n",
    "        :return: the closest result to the given question\n",
    "        \"\"\"\n",
    "        return self._collection.query(query_texts=query_texts, n_results=n_results)"
   ]
  },
  {
   "cell_type": "code",
   "execution_count": 24,
   "metadata": {},
   "outputs": [
    {
     "name": "stdout",
     "output_type": "stream",
     "text": [
      "CPU times: total: 391 ms\n",
      "Wall time: 2.79 s\n"
     ]
    }
   ],
   "source": [
    "%%time\n",
    "chroma = ChromaWithUpsert(\n",
    "    name=f\"nq910_minilm6v2\",\n",
    "    embedding_function=emb_func,  # you can have something here using /embed endpoint\n",
    "    persist_directory=knowledge_base_dir,\n",
    ")\n",
    "if chroma.is_empty():\n",
    "    _ = chroma.upsert_texts(\n",
    "        texts=documents.combined.tolist(),\n",
    "        # we handle tokenization, embedding, and indexing automatically. \n",
    "        #You can skip that and add your own embeddings as well\n",
    "        metadata=[{'Question': Question,\n",
    "                   'Patient':Patient,\n",
    "                   'ids': ids}\n",
    "                  for (Question,Patient,ids) in\n",
    "                  zip(documents.Question,documents.Patient, documents.ids)],  # filter on these!\n",
    "        ids=[str(i) for i in documents.ids],  # unique for each doc\n",
    "    )\n",
    "    chroma.persist()"
   ]
  },
  {
   "cell_type": "code",
   "execution_count": 25,
   "metadata": {},
   "outputs": [
    {
     "name": "stdout",
     "output_type": "stream",
     "text": [
      "CPU times: total: 15.6 ms\n",
      "Wall time: 70.9 ms\n"
     ]
    }
   ],
   "source": [
    "%%time\n",
    "chroma = ChromaWithUpsert(\n",
    "    name=f\"nq910_minilm6v2\",\n",
    "    embedding_function=emb_func,  # you can have something here using /embed endpoint\n",
    "    persist_directory=knowledge_base_dir,\n",
    ")\n",
    "if chroma.is_empty():\n",
    "    _ = chroma.upsert_texts(\n",
    "        texts=documents.combined.tolist(),\n",
    "        # we handle tokenization, embedding, and indexing automatically. \n",
    "        #You can skip that and add your own embeddings as well\n",
    "        metadata=[{'Question': Question, \n",
    "                   'ids': ids}\n",
    "                  for (Question,ids) in\n",
    "                  zip(documents.Question, documents.ids)],  # filter on these!\n",
    "        ids=[str(i) for i in documents.ids],  # unique for each doc\n",
    "    )\n",
    "    chroma.persist()"
   ]
  },
  {
   "cell_type": "code",
   "execution_count": 26,
   "metadata": {},
   "outputs": [],
   "source": [
    "from ibm_watson_machine_learning.foundation_models.utils.enums import ModelTypes"
   ]
  },
  {
   "cell_type": "code",
   "execution_count": 27,
   "metadata": {},
   "outputs": [],
   "source": [
    "model_id = ModelTypes.FLAN_UL2\n"
   ]
  },
  {
   "cell_type": "code",
   "execution_count": 28,
   "metadata": {},
   "outputs": [
    {
     "name": "stdout",
     "output_type": "stream",
     "text": [
      "What can cause constant itching around groin area?\n",
      "What causes pain from anus to testicles?\n",
      "What causes night fall in men?\n",
      "What causes testicle pain?\n",
      "Is masturbating harmful?\n",
      "What is causing whitish discharge from my penis?\n",
      "What causes lack of erections in a 17 year old diabetic?\n",
      "Suggest remedy for pain in my penis?\n",
      "What causes fishy smelling sperms?\n",
      "Suggest treatment to increase the hardness of the penis?\n",
      "Suggest treatment for premature ejaculation?\n",
      "Can motility and morphology of sperm count be treated by taking paternia?\n",
      "Suggest treatment for premature ejaculation and erectile dysfunction?\n",
      "Suggest medication for disorientation and erectile dysfunction of penis?\n",
      "Suggest remedy for premature ejaculation?\n",
      "Is loss of virginity related to height growth?\n",
      "What causes a knot on the testicle?\n",
      "What causes reduced hardness while on erection?\n",
      "Suggest remedy for cuts on foreskin near testicles?\n",
      "How safe is Depsonil and Antoxid for clear fluid leak during masturbation?\n",
      "How can prostate enlargement with ascites be treated?\n",
      "What would cause a low semen volume?\n",
      "Suggest treatment to heal cracks on foreskin after masturbation?\n",
      "What causes limited growth of facial hair?\n",
      "Is frequent masturbation harmful?\n",
      "Suggest treatment for erectile dysfunction and premature ejaculation?\n",
      "Suggest treatment for masturbation addiction?\n",
      "What causes tightness and enlargement in my left testicle?\n",
      "What does sperm count nil mean in an semen report?\n",
      "What causes itchy testicles with white bumps?\n",
      "What causes dry and itchy penis?\n",
      "Suggest treatment for non obstructive Azoospermia?\n",
      "What does this Semen analysis for fertility indicate?\n",
      "Suggest treatment for sertoli?\n",
      "How to get rid of night fall?\n",
      "Suggest medication for swelling of lymph nodes in groin area?\n",
      "What causes pain in testicles?\n",
      "What causes large chest compared to arms in 21 year old?\n",
      "What causes increasingly erections in nights?\n",
      "Suggest diet during treatment for hepatomegaly with Grade 2 BHP?\n",
      "What causes difficulty in ejaculating in condoms?\n",
      "What causes weakness in penis after masturbation?\n",
      "What are the side effects of excessive masturbation?\n",
      "What causes small and hard testicles?\n",
      "Suggest treatment itchy, round patch on testicle near groin crease?\n",
      "What is the treatment for boils on the penis?\n",
      "Suggest treatment for lack of semen discharge after having lithotripsy?\n",
      "What causes severe pain in the area of bulbourethral gland?\n",
      "Can masturbation affect chicken pox?\n",
      "What causes azoospermia inspite of normal FSH?\n"
     ]
    }
   ],
   "source": [
    "question_texts = [q.strip(\"?\") + \"?\" for q in test_data['Question'].tolist()]\n",
    "print(\"\\n\".join(question_texts))"
   ]
  },
  {
   "cell_type": "code",
   "execution_count": 29,
   "metadata": {},
   "outputs": [],
   "source": [
    "relevant_contexts = []\n",
    "\n",
    "for question_text in question_texts:\n",
    "    relevant_chunks = chroma.query(\n",
    "        query_texts=[question_text],\n",
    "        n_results=5,\n",
    "    )\n",
    "    relevant_contexts.append(relevant_chunks)"
   ]
  },
  {
   "cell_type": "code",
   "execution_count": 30,
   "metadata": {},
   "outputs": [
    {
     "name": "stdout",
     "output_type": "stream",
     "text": [
      "=========\n",
      "Paragraph index :  584\n",
      "Paragraph :  Question: What can cause constant itching around groin area?\n",
      " Answer: Hello, It is a typical feature of fungal infection (also known as tinea cruris or jock itch). As of now clean the area with soap and water and apply antifungal like clotrimazole for symptomatic relief. An antihistamine like cetrezine can be taken for itching. Good personal hygiene is also important. Generally, the symptoms will settle in a few days. If lesion persists better to consult a dermatologist and get evaluated. Hope I have answered your query. Let me know if I can assist you further. Take care Regards, Dr Shinas Hussain, General & Family Physician\n",
      "Distance :  0.253711462020874\n",
      "=========\n",
      "Paragraph index :  48823\n",
      "Paragraph :  Question: What causes itching and irritation in groin area?\n",
      " Answer: it appears you may have a fungal infection with needs to be examined by a physician to provide further treament\n",
      "Distance :  0.2962201237678528\n",
      "=========\n",
      "Paragraph index :  8634\n",
      "Paragraph :  Question: What causes itching in groin area and discoloration?\n",
      " Answer: Thanks for asking in healthcaremagic forumIn short: May be a fungal infectionExplanation: Apply oint clotrimazole locally twice a day for 10 days. Keep area clean by trimming/shaving and dry. This will help you. If not visit a doctor without hesitation. Good luck.\n",
      "Distance :  0.4137638807296753\n",
      "=========\n",
      "Paragraph index :  3017\n",
      "Paragraph :  Question: Suggest treatment for swelling and itching especially in the groin area\n",
      " Answer: Hi, It can be a fungal infection. As the first line of management, you can apply topical antifungal ointments like clotrimazole for symptomatic relief. If symptoms persist, better to consult a dermatologist and get evaluated. Hope I have answered your query. Let me know if I can assist you further.\n",
      "Distance :  0.41402679681777954\n",
      "=========\n",
      "Paragraph index :  8784\n",
      "Paragraph :  Question: What causes itching in groin?\n",
      " Answer: Thanks for asking in healthcaremagic forumIn short: Keep area clean and dry(you may trim/shave)Explanation: Moisture can cause fungal infection frequently over there. So keep that area clean and dry to prevent such infection and itch.                   Visit a doctor if it doesnot subside.\n",
      "Distance :  0.4585272967815399\n"
     ]
    }
   ],
   "source": [
    "sample_chunks = relevant_contexts[0]\n",
    "for i, chunk in enumerate(sample_chunks['documents'][0]):\n",
    "    print(\"=========\")\n",
    "    print(\"Paragraph index : \", sample_chunks['ids'][0][i])\n",
    "    print(\"Paragraph : \", chunk)\n",
    "    print(\"Distance : \", sample_chunks['distances'][0][i])"
   ]
  },
  {
   "cell_type": "code",
   "execution_count": 31,
   "metadata": {},
   "outputs": [],
   "source": [
    "def make_prompt(context, question_text):\n",
    "    return (f\"Please answer the following.\\n\"\n",
    "          + f\"{context}:\\n\\n\"\n",
    "          + f\"{question_text}\")\n",
    "\n",
    "prompt_texts = []\n",
    "\n",
    "for relevant_context, question_text in zip(relevant_contexts, question_texts):\n",
    "    context = \"\\n\\n\\n\".join(relevant_context[\"documents\"][0])\n",
    "    prompt_text = make_prompt(context, question_text)\n",
    "    prompt_texts.append(prompt_text)"
   ]
  },
  {
   "cell_type": "code",
   "execution_count": 32,
   "metadata": {},
   "outputs": [
    {
     "name": "stdout",
     "output_type": "stream",
     "text": [
      "Please answer the following.\n",
      "Question: What can cause constant itching around groin area?\n",
      " Answer: Hello, It is a typical feature of fungal infection (also known as tinea cruris or jock itch). As of now clean the area with soap and water and apply antifungal like clotrimazole for symptomatic relief. An antihistamine like cetrezine can be taken for itching. Good personal hygiene is also important. Generally, the symptoms will settle in a few days. If lesion persists better to consult a dermatologist and get evaluated. Hope I have answered your query. Let me know if I can assist you further. Take care Regards, Dr Shinas Hussain, General & Family Physician\n",
      "\n",
      "\n",
      "Question: What causes itching and irritation in groin area?\n",
      " Answer: it appears you may have a fungal infection with needs to be examined by a physician to provide further treament\n",
      "\n",
      "\n",
      "Question: What causes itching in groin area and discoloration?\n",
      " Answer: Thanks for asking in healthcaremagic forumIn short: May be a fungal infectionExplanation: Apply oint clotrimazole locally twice a day for 10 days. Keep area clean by trimming/shaving and dry. This will help you. If not visit a doctor without hesitation. Good luck.\n",
      "\n",
      "\n",
      "Question: Suggest treatment for swelling and itching especially in the groin area\n",
      " Answer: Hi, It can be a fungal infection. As the first line of management, you can apply topical antifungal ointments like clotrimazole for symptomatic relief. If symptoms persist, better to consult a dermatologist and get evaluated. Hope I have answered your query. Let me know if I can assist you further.\n",
      "\n",
      "\n",
      "Question: What causes itching in groin?\n",
      " Answer: Thanks for asking in healthcaremagic forumIn short: Keep area clean and dry(you may trim/shave)Explanation: Moisture can cause fungal infection frequently over there. So keep that area clean and dry to prevent such infection and itch.                   Visit a doctor if it doesnot subside.:\n",
      "\n",
      "What can cause constant itching around groin area?\n"
     ]
    }
   ],
   "source": [
    "print(prompt_texts[0]) "
   ]
  },
  {
   "cell_type": "code",
   "execution_count": 33,
   "metadata": {},
   "outputs": [],
   "source": [
    "from ibm_watson_machine_learning.metanames import GenTextParamsMetaNames as GenParams\n",
    "from ibm_watson_machine_learning.foundation_models.utils.enums import DecodingMethods\n",
    "\n",
    "parameters = {\n",
    "    GenParams.DECODING_METHOD: DecodingMethods.GREEDY,\n",
    "    GenParams.MIN_NEW_TOKENS: 1,\n",
    "    GenParams.MAX_NEW_TOKENS: 200\n",
    "}"
   ]
  },
  {
   "cell_type": "code",
   "execution_count": 34,
   "metadata": {},
   "outputs": [],
   "source": [
    "def getBearer(apikey):\n",
    "    form = {'apikey': apikey, 'grant_type': \"urn:ibm:params:oauth:grant-type:apikey\"}\n",
    "    print(\"About to create bearer\")\n",
    "    # Fix the URL - change iaibmm to iam\n",
    "    response = requests.post(\"https://iam.cloud.ibm.com/oidc/token\", data=form)\n",
    "    if response.status_code != 200:\n",
    "        print(\"Bad response code retrieving token\")\n",
    "        raise Exception(\"Failed to get token, invalid status\")\n",
    "    json = response.json()\n",
    "    if not json:\n",
    "        print(\"Invalid/no JSON retrieving token\")\n",
    "        raise Exception(\"Failed to get token, invalid response\")\n",
    "    print(\"Bearer retrieved\")\n",
    "    return json.get(\"access_token\")"
   ]
  },
  {
   "cell_type": "code",
   "execution_count": 35,
   "metadata": {},
   "outputs": [
    {
     "name": "stdout",
     "output_type": "stream",
     "text": [
      "About to create bearer\n"
     ]
    },
    {
     "ename": "NameError",
     "evalue": "name 'requests' is not defined",
     "output_type": "error",
     "traceback": [
      "\u001b[1;31m---------------------------------------------------------------------------\u001b[0m",
      "\u001b[1;31mNameError\u001b[0m                                 Traceback (most recent call last)",
      "Cell \u001b[1;32mIn[35], line 1\u001b[0m\n\u001b[1;32m----> 1\u001b[0m credentials[\u001b[38;5;124m\"\u001b[39m\u001b[38;5;124mtoken\u001b[39m\u001b[38;5;124m\"\u001b[39m] \u001b[38;5;241m=\u001b[39m \u001b[43mgetBearer\u001b[49m\u001b[43m(\u001b[49m\u001b[43mcredentials\u001b[49m\u001b[43m[\u001b[49m\u001b[38;5;124;43m\"\u001b[39;49m\u001b[38;5;124;43mapikey\u001b[39;49m\u001b[38;5;124;43m\"\u001b[39;49m\u001b[43m]\u001b[49m\u001b[43m)\u001b[49m\n",
      "Cell \u001b[1;32mIn[34], line 5\u001b[0m, in \u001b[0;36mgetBearer\u001b[1;34m(apikey)\u001b[0m\n\u001b[0;32m      3\u001b[0m \u001b[38;5;28mprint\u001b[39m(\u001b[38;5;124m\"\u001b[39m\u001b[38;5;124mAbout to create bearer\u001b[39m\u001b[38;5;124m\"\u001b[39m)\n\u001b[0;32m      4\u001b[0m \u001b[38;5;66;03m# Fix the URL - change iaibmm to iam\u001b[39;00m\n\u001b[1;32m----> 5\u001b[0m response \u001b[38;5;241m=\u001b[39m \u001b[43mrequests\u001b[49m\u001b[38;5;241m.\u001b[39mpost(\u001b[38;5;124m\"\u001b[39m\u001b[38;5;124mhttps://iam.cloud.ibm.com/oidc/token\u001b[39m\u001b[38;5;124m\"\u001b[39m, data\u001b[38;5;241m=\u001b[39mform)\n\u001b[0;32m      6\u001b[0m \u001b[38;5;28;01mif\u001b[39;00m response\u001b[38;5;241m.\u001b[39mstatus_code \u001b[38;5;241m!=\u001b[39m \u001b[38;5;241m200\u001b[39m:\n\u001b[0;32m      7\u001b[0m     \u001b[38;5;28mprint\u001b[39m(\u001b[38;5;124m\"\u001b[39m\u001b[38;5;124mBad response code retrieving token\u001b[39m\u001b[38;5;124m\"\u001b[39m)\n",
      "\u001b[1;31mNameError\u001b[0m: name 'requests' is not defined"
     ]
    }
   ],
   "source": [
    "credentials[\"token\"] = getBearer(credentials[\"apikey\"])"
   ]
  }
 ],
 "metadata": {
  "kernelspec": {
   "display_name": "Python 3",
   "language": "python",
   "name": "python3"
  },
  "language_info": {
   "codemirror_mode": {
    "name": "ipython",
    "version": 3
   },
   "file_extension": ".py",
   "mimetype": "text/x-python",
   "name": "python",
   "nbconvert_exporter": "python",
   "pygments_lexer": "ipython3",
   "version": "3.12.8"
  }
 },
 "nbformat": 4,
 "nbformat_minor": 2
}
